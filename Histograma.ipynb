{
  "nbformat": 4,
  "nbformat_minor": 0,
  "metadata": {
    "colab": {
      "name": "Histograma.ipynb",
      "provenance": [],
      "collapsed_sections": []
    },
    "kernelspec": {
      "name": "python3",
      "display_name": "Python 3"
    }
  },
  "cells": [
    {
      "cell_type": "markdown",
      "metadata": {
        "id": "JGIBradWz0dH"
      },
      "source": [
        "<!--NOTEBOOK_HEADER-->\n",
        "Este notebook fue desarrollado por\n",
        "\n",
        "Arsenio N. C. C. \n",
        "\n",
        "Para la Facultad de Química de la Universidad Nacional Autónoma de México\n",
        "\n",
        "El código de este cuadernillo es lanzado bajo una [licencia GNU General Public License v3.0](https://opensource.org/licenses/GPL-3.0) y el texto esta lanzado bajo una [licencia CC BY-SA 4.0](https://creativecommons.org/licenses/by-sa/4.0/). \n"
      ]
    },
    {
      "cell_type": "markdown",
      "metadata": {
        "id": "jpZV1jKMve3K"
      },
      "source": [
        "# Práctica 1, Histogramas"
      ]
    },
    {
      "cell_type": "markdown",
      "metadata": {
        "id": "AsOwixo6vk_4"
      },
      "source": [
        "## 1)Teoría.\n",
        "Un histograma es un gráfico de una variable que nos ayuda a visualizar la distribución de frecuencias de un grupo de elementos.\n",
        "\n",
        "Estos gráficos son un conjunto de rectángulos que tienen como base la amplitud del intervalo y como altura la frecuencia absoluta del intervalo correspondiente.\n",
        "\n",
        "Para construir un histograma se requieren los siguientes elementos\n",
        "\n",
        "1. Rango.\n",
        "\\begin{equation}\n",
        "R=V_{máx}-V_{mín}\n",
        "\\end{equation}\n",
        "\n",
        "    *$V_{máx}$ es el valor máximo y $V_{mín}$ es el valor mínimo. \n",
        "\n",
        "\n",
        "2. Intervalo o clases.\n",
        "\\begin{equation}\n",
        "A=\\frac{R}{K}\n",
        "\\end{equation}\n",
        "\n",
        "Donde $K$ se puede calcular de diversas formas pero para fines prácticos se plantean las siguientes formas.\n",
        "\n",
        "- $K=\\sqrt{n}$\n",
        "-  $K=1+3.322 log (n)$\n",
        "-  Tabla\n",
        "\n",
        "| n            | K    |\n",
        "| :----------: |:----:|\n",
        "| n < 50       | 5-7  |\n",
        "| 50 < n < 100 | 6-10 |\n",
        "| 100 < n < 250| 7-12 |\n",
        "| n > 250      | 10-20|\n",
        "\n",
        "3. Fronteras de clase.\n",
        "\n",
        "Tenemos que especificar un rango de los datos y para que todos los datos puedan ser contenidos en cada clase introducimos un decimal extra en los límites de la clase.\n",
        "\n",
        "\\begin{equation}\n",
        "F_i=V_{máx}-\\frac{1}{2}(u)\n",
        "\\end{equation}\n",
        "\n",
        "donde $u$ es el orden de magnitud del valor del cambio más pequeño que podemos distinguir en nuestros datos, por ejemplo para los datos:\n",
        "\n",
        "$$0.1,0.5, 0.3$$\n",
        "\n",
        "$$u=0.1$$\n",
        "\n",
        "para los datos \n",
        "\n",
        "$$30,90,60$$\n",
        "$$u=10$$\n",
        "\n",
        "para los datos\n",
        "$$6.07,0.04,8.42$$\n",
        "$$u=0.01$$\n",
        "\n",
        "\n",
        "4. Marcas de clase.\n",
        "\n",
        "\\begin{equation}\n",
        "M=\\frac{F_i+F_s}{2}\n",
        "\\end{equation}\n",
        "\n",
        "*$F_{i}$ es la frontera inferior y $F_{s}$ es la frontera superior."
      ]
    },
    {
      "cell_type": "markdown",
      "metadata": {
        "id": "uB1eoEEOvo4P"
      },
      "source": [
        "## 2) Código.\n",
        "\n",
        "Lo primero que haremos es crear un diccionario con una serie de datos de los cuales queremos obtener un histograma."
      ]
    },
    {
      "cell_type": "code",
      "metadata": {
        "id": "hc-3AcP8vcYQ"
      },
      "source": [
        "mediciones=[0.06,1.04,1.21,1.88,2.06,2.10,2.14,2.27,2.47,2.60,2.70,2.89,3.07,\n",
        "            3.09,3.30,3.31,3.50,3.71,3.78,3.86,3.93,4.06,4.15,4.19,4.22,4.38,\n",
        "            4.40,4.45,4.55,4.57,4.66,4.77,4.86,4.86,4.87,4.91,4.98,5.05,5.08,\n",
        "            5.08,5.13,5.19,5.19,5.22,5.37,5.40,5.43,5.49,5.55,5.57,5.59,5.59,\n",
        "            5.66,5.68,5.69,5.71,5.72,5.75,5.90,5.91,5.91,6.03,6.13,6.21,6.29,\n",
        "            6.29,6.42,6.44,6.50,6.57,6.60,6.68,6.72,6.78,6.83,6.84,6.85,6.86,\n",
        "            7.03,7.11,7.26,7.31,7.61,7.63,7.64,7.67,7.72,7.78,7.83,7.85,7.86,\n",
        "            7.88,7.89,7.97,7.99,8.04,8.10,8.19,8.23,8.23,8.28,8.39,8.39,8.51,\n",
        "            8.57,8.57,8.62,8.62,8.66,8.66,8.69,8.76,9.10,9.19,9.24,9.28,9.35,\n",
        "            9.50,9.60,9.69,9.76,9.76,9.86,10.11,10.12,10.58,10.65,10.83,11.13,\n",
        "            11.21,11.30,11.43,11.48,11.99,12.01,12.44,13.59]"
      ],
      "execution_count": null,
      "outputs": []
    },
    {
      "cell_type": "markdown",
      "metadata": {
        "id": "_8EkbBJ9vs5f"
      },
      "source": [
        "Después tenemos que importar las librerías que usaremos"
      ]
    },
    {
      "cell_type": "code",
      "metadata": {
        "id": "dMwRsYZWvfuf"
      },
      "source": [
        "import numpy as np\n",
        "import matplotlib.pyplot as plt"
      ],
      "execution_count": null,
      "outputs": []
    },
    {
      "cell_type": "markdown",
      "metadata": {
        "id": "mDxfz44bv0v_"
      },
      "source": [
        "1)\n",
        "\n",
        "Hay muchas formas correctas de resolver este problema con código, en este cuadernillo programaremos funciones para cada paso en la construcción del histograma.\n",
        "\n",
        "Primero tenemos que crear una función 'rango' que nos entregue el rango de nuestros datos tomando como entrada a un diccionario con los datos.\n",
        "\n",
        "\\begin{equation}\n",
        "R=V_{máx}-V_{mín}\n",
        "\\end{equation}\n",
        "\n",
        "Dos funciones útiles son:\n",
        "    - min(x), que nos da el valor mínimo del diccionario 'x'\n",
        "    - max(x), que nos da el valor máximo del diccionario 'x'\n",
        "    \n",
        "Se puede programar entre 1 a 3 lineas de código y no olvides asociar el valor de rango a la variable 'R' que sera la que regrese la función."
      ]
    },
    {
      "cell_type": "markdown",
      "metadata": {
        "id": "6KX4A4JEv3vI"
      },
      "source": [
        "¡NOTA! para evitar errores en la compilación las funciones originalmente tendrán 'pass', debes borrar esa linea y programar tus funciones."
      ]
    },
    {
      "cell_type": "code",
      "metadata": {
        "id": "qtbQvjgRvwuO"
      },
      "source": [
        "def rango(x):\n",
        "    #--Escribe la función-- (Aproximadamente de 1 a 3 lineas)\n",
        "    pass\n",
        "    ##--Termina de escribir --\n",
        "    return (R)"
      ],
      "execution_count": null,
      "outputs": []
    },
    {
      "cell_type": "markdown",
      "metadata": {
        "id": "ktRjGgGSwIS4"
      },
      "source": [
        "Evaluamos la función creada para el diccionario 'mediciones' y el resultado debe de ser 13.53\n",
        "\n",
        "¡NOTA! las evaluaciones de funciones en este notebook están comentadas con el carácter '#', borra ese caracter y corre las evaluaciones."
      ]
    },
    {
      "cell_type": "code",
      "metadata": {
        "id": "ypVG4HT7vydO"
      },
      "source": [
        "#Rango=rango(mediciones)\n",
        "#print(Rango)"
      ],
      "execution_count": null,
      "outputs": []
    },
    {
      "cell_type": "markdown",
      "metadata": {
        "id": "0Aoa6kwiwglX"
      },
      "source": [
        "De preferencia trata de programar la función por tu cuenta para que puedas aprender pero en caso de que no estes llegando a la solución puedes ver una forma de programarlo dando doble click sobre la celda que dice 'solución:'.\n",
        "\n",
        "Solución:\n",
        "$\n",
        "%def rango(x):\n",
        "%    mín=min(x)\n",
        "%    máx=max(x)\n",
        "%    R=máx-mín\n",
        "%    return (R)\n",
        "$"
      ]
    },
    {
      "cell_type": "markdown",
      "metadata": {
        "id": "MRMLFiilwjpn"
      },
      "source": [
        "2)\n",
        "\n",
        "Ahora crearemos la función 'intervalo(x)' para determinar los intervalos en nuestro histograma\n",
        "\n",
        "\\begin{equation}\n",
        "A=\\frac{R}{K}\n",
        "\\end{equation}\n",
        "\n",
        "Recordemos que $K$ se puede calcular de diversas formas, en este caso usaremos la raíz de el número de datos en nuestro histograma, aunque si prefieres puedes usar otra forma de obtener $K$.\n",
        "\n",
        "Las funciones que pueden serte de utilidad son:\n",
        "    - len(x), te da la cantidad de elementos en el arreglo 'x', que en este caso es un diccionario.\n",
        "    - np.sqrt(x), regresa la raíz cuadrada de el valor 'x'.\n",
        "    - round(x), redondea un número 'x'\n",
        "\n",
        "Para facilitar la creación de esta función puedes usar la función 'rango(x)' que creaste en el paso previo. "
      ]
    },
    {
      "cell_type": "code",
      "metadata": {
        "id": "5Hiw0lndwI5e"
      },
      "source": [
        "def intervalo(x):\n",
        "    #--Escribe la función-- \n",
        "    pass\n",
        "    ##--Termina de escribir --\n",
        "    return (A)"
      ],
      "execution_count": null,
      "outputs": []
    },
    {
      "cell_type": "markdown",
      "metadata": {
        "id": "_87lGuNBwogu"
      },
      "source": [
        "Evaluamos la función creada para el diccionario 'mediciones' y el resultado debe de ser 1.0"
      ]
    },
    {
      "cell_type": "code",
      "metadata": {
        "id": "7cjZ3oqfwnmv"
      },
      "source": [
        "#Intervalo=intervalo(mediciones)\n",
        "#print(Intervalo)"
      ],
      "execution_count": null,
      "outputs": []
    },
    {
      "cell_type": "markdown",
      "metadata": {
        "id": "VDvTSVo7w1lH"
      },
      "source": [
        "Solución:\n",
        "$\n",
        "%def intervalo(x):\n",
        "%    A=round(rango(x)/np.sqrt(len(x)))\n",
        "%    return (A)\n",
        "$"
      ]
    },
    {
      "cell_type": "markdown",
      "metadata": {
        "id": "pNmCIHs5w6yo"
      },
      "source": [
        "3)\n",
        "\n",
        "El siguiente paso es obtener las fronteras de clase, recordando\n",
        "\n",
        "\\begin{equation}\n",
        "F_i=V_{máx}-\\frac{1}{2}(u)\n",
        "\\end{equation}\n",
        "\n",
        "*En nuestro caso $u=0.01$\n",
        "\n",
        "Dado que obtendremos varios valores una forma de resolver ete problema es hacer uso de un diccionario al que le agregaremos los valores de las fronteras. Podemos hacer un ciclo 'while' para repetir el proceso de obtención de fronteras mientras no rebasemos el valor máximo de nuestros datos.\n",
        "\n",
        "Las funciones que pueden ser de utilidad son:\n",
        "    - Y.append(x), agrega el valor 'x' al diccionario 'Y'.\n",
        "    - while 'condición':\n",
        "        codigo si se cumple la condición\n",
        "\n",
        "Dado que esta función es un poco más complicada se plantea el esqueleto de la función"
      ]
    },
    {
      "cell_type": "code",
      "metadata": {
        "id": "d49IJJkAwtt3"
      },
      "source": [
        "def frontera(x):\n",
        "    #Creamos un diccionario vacio al que llamaremos 'fronteras'\n",
        "    fronteras=[]\n",
        "    #--Programar la frontera inicial -- (Borra el 0 y programa tu función)\n",
        "    Fi=0\n",
        "    #--Terminar de programar --\n",
        "    #Adicionamos el valor de la frontera inicial al diccionario fronteras y actualizamos el valor de la frontera final para el ciclo 'while'\n",
        "    fronteras.append(Fi)\n",
        "    Ff=Fi\n",
        "    #--Programar la condición del ciclo 'while'-- (Borra el 'True' y programa tu condición)\n",
        "    while True:\n",
        "    #--Terminar de programar--\n",
        "        Ff=Ff+intervalo(x)\n",
        "        fronteras.append(Ff)\n",
        "    return(fronteras)"
      ],
      "execution_count": null,
      "outputs": []
    },
    {
      "cell_type": "markdown",
      "metadata": {
        "id": "df6IvtmbxTsP"
      },
      "source": [
        "Evaluamos la función creada para el diccionario 'mediciones' y el resultado debe de ser el diccionario\n",
        "\n",
        "[0.055,\n",
        " 1.055,\n",
        " 2.0549999999999997,\n",
        " 3.0549999999999997,\n",
        " 4.055,\n",
        " 5.055,\n",
        " 6.055,\n",
        " 7.055,\n",
        " 8.055,\n",
        " 9.055,\n",
        " 10.055,\n",
        " 11.055,\n",
        " 12.055,\n",
        " 13.055,\n",
        " 14.055]"
      ]
    },
    {
      "cell_type": "markdown",
      "metadata": {
        "id": "hotYVmH6xYqf"
      },
      "source": [
        "Solución:\n",
        "$\n",
        "%def frontera(x):\n",
        "%    fronteras=[]\n",
        "%    Fi=min(x)-0.5*0.01\n",
        "%    fronteras.append(Fi)\n",
        "%    Ff=Fi\n",
        "%    while Ff<=max(x):\n",
        "%        Ff=Ff+intervalo(x)\n",
        "%        fronteras.append(Ff)\n",
        "%    return(fronteras)\n",
        "$"
      ]
    },
    {
      "cell_type": "markdown",
      "metadata": {
        "id": "aFVT73CCxcNA"
      },
      "source": [
        "4)\n",
        "\n",
        "Para la gráfica obtendremos un diccionario que contenga todas las marcad de clase, las obtendremos con la ecuación, para lograr este cometido crearemos una función que nos regrese las marcas de clase y los intervalos.\n",
        "\n",
        "\\begin{equation}\n",
        "M=\\frac{F_i+F_s}{2}\n",
        "\\end{equation}\n",
        "\n",
        "Dado que las siguientes funciones son un poco más complicadas no tendrás que programarlas pero trata de entenderlas para cuadernillos posteriores."
      ]
    },
    {
      "cell_type": "code",
      "metadata": {
        "id": "5r-Icxoew5o2"
      },
      "source": [
        "def marca_clase(x):\n",
        "    intervalos=[]\n",
        "    M=[]\n",
        "    for i in range(len(frontera(x))-1):\n",
        "        I=frontera(x)[i],frontera(x)[i+1]\n",
        "        intervalos.append(I)\n",
        "        m=(frontera(x)[i]+frontera(x)[i+1])/2\n",
        "        M.append(m)\n",
        "    return(M,intervalos) \n",
        "#Esta función regresa dos valores; 'M' que son las marcas de clase e 'intervalos' que contiene los intervalos de clase."
      ],
      "execution_count": null,
      "outputs": []
    },
    {
      "cell_type": "code",
      "metadata": {
        "id": "e2-XgJDZxbWP"
      },
      "source": [
        "#Probamos la función para ver que valores nos regresa (Borra el '#' en la siguiente linea y ejecuta el codigo)\n",
        "#print(marca_clase(mediciones))"
      ],
      "execution_count": null,
      "outputs": []
    },
    {
      "cell_type": "code",
      "metadata": {
        "id": "V6WpTKcnxlj_"
      },
      "source": [
        "def conteo(x):\n",
        "    Contador=[]\n",
        "    a=marca_clase(x)[1]\n",
        "    for i in a:\n",
        "        contador=0\n",
        "        for j in x:\n",
        "            if i[0]<=j<=i[1]:\n",
        "                contador += 1\n",
        "        Contador.append(contador)\n",
        "    return(Contador)\n",
        "#Con esta función determinamos la frecuencia de cada intervalo de clase."
      ],
      "execution_count": null,
      "outputs": []
    },
    {
      "cell_type": "code",
      "metadata": {
        "id": "NLpbF5VNxwKX"
      },
      "source": [
        "#Probamos la función para ver que valores nos regresa (Borra el '#' en la siguiente linea y ejecuta el codigo)\n",
        "#print(conteo(mediciones))"
      ],
      "execution_count": null,
      "outputs": []
    },
    {
      "cell_type": "markdown",
      "metadata": {
        "id": "T9n8wX16x2r_"
      },
      "source": [
        "Ahora que tenemos todos los elementos podemos construir la gráfica del histograma.\n",
        "\n",
        "Lo primero sera crear dos diccionarios, un diccionario 'X' que contendrá todas las marcas de clase de nuestro grupo de datos y un diccionario 'Y' que tendrá la frecuencia de cada intervalo de clase. "
      ]
    },
    {
      "cell_type": "code",
      "metadata": {
        "id": "6MKS68Smx0qe"
      },
      "source": [
        "#Dado que para graficar nos interesa solo las marcas de clase le pedimos el primer elemento de la función 'marca_clase'\n",
        "#Borra los siguientes '#', de 'X' e 'Y' antes de correr el codigo.\n",
        "#X=marca_clase(mediciones)[0]\n",
        "#Y=conteo(mediciones)"
      ],
      "execution_count": null,
      "outputs": []
    },
    {
      "cell_type": "code",
      "metadata": {
        "id": "X7OIgkvbx58W",
        "outputId": "935e8e88-3b59-43ef-ec70-e38bb13701a5",
        "colab": {
          "base_uri": "https://localhost:8080/",
          "height": 281
        }
      },
      "source": [
        "#Usamos la libreria 'matplot.lib' a la que nombramos 'plt' para graficar el histograma\n",
        "#Borra el '#' en la linea de abajo que esta comentada antes de correr el codigo.\n",
        "fig,ax=plt.subplots()\n",
        "ax.set_title('Histograma')\n",
        "ax.set_ylabel('Frecuencia')\n",
        "#ax.bar(X,Y)\n",
        "plt.show()"
      ],
      "execution_count": null,
      "outputs": [
        {
          "output_type": "display_data",
          "data": {
            "image/png": "[encoded data removed]",
            "text/plain": [
              "<Figure size 432x288 with 1 Axes>"
            ]
          },
          "metadata": {
            "tags": [],
            "needs_background": "light"
          }
        }
      ]
    },
    {
      "cell_type": "markdown",
      "metadata": {
        "id": "45jDhYj9yTbn"
      },
      "source": [
        "Debes obtener un histograma como el que sigue\n",
        "\n",
        "![histograma.png](data:image/png;base64,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)"
      ]
    },
    {
      "cell_type": "code",
      "metadata": {
        "id": "ohAeTt4jbvdg"
      },
      "source": [
        ""
      ],
      "execution_count": null,
      "outputs": []
    }
  ]
}
